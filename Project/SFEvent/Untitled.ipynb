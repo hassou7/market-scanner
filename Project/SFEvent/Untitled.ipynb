{
 "cells": [
  {
   "cell_type": "code",
   "execution_count": 1,
   "id": "41a99131-7c9e-4b88-9feb-3e664bc507c4",
   "metadata": {},
   "outputs": [
    {
     "name": "stdout",
     "output_type": "stream",
     "text": [
      "Generating public/private ed25519 key pair.\n",
      "Your identification has been saved in ./id_ed25519\n",
      "Your public key has been saved in ./id_ed25519.pub\n",
      "The key fingerprint is:\n",
      "SHA256:1NW2zaf2UM/A1yNs9ZRBM7/MrtqvJRPS96d0bN73FCA amou@afia.fr\n",
      "The key's randomart image is:\n",
      "+--[ED25519 256]--+\n",
      "|            ...=o|\n",
      "|         . .  oo=|\n",
      "|        . .E.+.=+|\n",
      "|       .    o+B.X|\n",
      "|        S  ..o.%+|\n",
      "|            . B.=|\n",
      "|             +.=B|\n",
      "|            ..=*=|\n",
      "|           ..++.*|\n",
      "+----[SHA256]-----+\n"
     ]
    }
   ],
   "source": [
    "!ssh-keygen -t ed25519 -C \"amou@afia.fr\" -f ./id_ed25519 -N \"\""
   ]
  },
  {
   "cell_type": "code",
   "execution_count": null,
   "id": "6b92d8bb-e706-48b8-9346-eeecba0e244e",
   "metadata": {},
   "outputs": [
    {
     "name": "stdout",
     "output_type": "stream",
     "text": [
      "Cloning into 'market-scanner'...\n",
      "The authenticity of host 'github.com (140.82.121.4)' can't be established.\n",
      "ED25519 key fingerprint is SHA256:+DiY3wvvV6TuJJhbpZisF/zLDA0zPMSvHdkr4UvCOqU.\n",
      "This key is not known by any other names\n",
      "Are you sure you want to continue connecting (yes/no/[fingerprint])? "
     ]
    }
   ],
   "source": [
    "!git clone git@github.com:AmauryBJ/hassou7/market-scanner.git"
   ]
  },
  {
   "cell_type": "code",
   "execution_count": null,
   "id": "e39753f8-b747-4b75-a1e5-7c510f602d87",
   "metadata": {},
   "outputs": [],
   "source": []
  }
 ],
 "metadata": {
  "kernelspec": {
   "display_name": "Python 3 (ipykernel)",
   "language": "python",
   "name": "python3"
  },
  "language_info": {
   "codemirror_mode": {
    "name": "ipython",
    "version": 3
   },
   "file_extension": ".py",
   "mimetype": "text/x-python",
   "name": "python",
   "nbconvert_exporter": "python",
   "pygments_lexer": "ipython3",
   "version": "3.11.6"
  }
 },
 "nbformat": 4,
 "nbformat_minor": 5
}
